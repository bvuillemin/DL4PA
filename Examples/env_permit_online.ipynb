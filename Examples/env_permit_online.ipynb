{
 "cells": [
  {
   "cell_type": "markdown",
   "metadata": {
    "collapsed": false,
    "pycharm": {
     "name": "#%% md\n"
    }
   },
   "source": [
    "Hello, and welcome to this walkthrough. Here, you will quickly see the inner workings of the framework.\n",
    "First, if you haven't done so, please unzip Data.zip to the root of the project.\n",
    "Let us start by importing the necessary libraries."
   ]
  },
  {
   "cell_type": "code",
   "execution_count": null,
   "metadata": {
    "collapsed": false,
    "pycharm": {
     "name": "#%%\n"
    }
   },
   "outputs": [],
   "source": [
    "from Managers.common_functions import *\n",
    "from Managers.encoder_manager import *\n",
    "from Editors import *\n",
    "from Encoders import *\n",
    "from DataPreparators import *\n",
    "from Trainers import *"
   ]
  },
  {
   "cell_type": "markdown",
   "metadata": {
    "collapsed": false,
    "pycharm": {
     "name": "#%% md\n"
    }
   },
   "source": [
    "Here, the goal is to predict the next activity from an incomplete case, by training a LSTM network on the \"env_permit\" dataset. To do so, the data must be edited, encoded, and processed into pairs of \"prefixes\" (the incomplete cases) and \"suffixes\" (the activity to predict). Here is the content that can be found in the env_permit database:"
   ]
  },
  {
   "cell_type": "code",
   "execution_count": null,
   "metadata": {
    "collapsed": false,
    "pycharm": {
     "name": "#%%\n"
    }
   },
   "outputs": [],
   "source": [
    "pd.read_csv(\"../Data/env_permit.csv\", nrows=5)"
   ]
  },
  {
   "cell_type": "markdown",
   "metadata": {
    "collapsed": false,
    "pycharm": {
     "name": "#%% md\n"
    }
   },
   "source": [
    "As we can see, it has three columns: a case id, an activity, and a date. Each column must be encoded to fit inside a neural network."
   ]
  },
  {
   "cell_type": "markdown",
   "metadata": {
    "collapsed": false,
    "pycharm": {
     "name": "#%% md\n"
    }
   },
   "source": [
    "Here are the main parameters for the framework, stored in the \"config.py\" file. From top to bottom:\n",
    "* The path for the input file, here \"env_permit.csv\",\n",
    "* The name of the folder for the results, stored inside the \"Output\" folder, here \"env_permit\",\n",
    "* The size of the chunk when reading the input file, i.e. the maximum number of lines to store in the RAM,\n",
    "* The number of processed cases to store in the RAM,\n",
    "* The number of epochs for the neural network,\n",
    "* A boolean to set if the input file has two columns with timestamps tied to the activity (for the start and end date). Here, env_permit has only the start date,\n",
    "* The indexes of the columns which contains dates. Here, only the third column has dates in it."
   ]
  },
  {
   "cell_type": "code",
   "execution_count": null,
   "metadata": {
    "collapsed": false,
    "pycharm": {
     "name": "#%%\n"
    }
   },
   "outputs": [],
   "source": [
    "input_path = \"../Data/env_permit.csv\"\n",
    "output_name = \"env_permit_online\"\n",
    "input_chunk_size = 50000\n",
    "output_chunk_size = 500\n",
    "batch_size = 32\n",
    "epoch_counter = 5\n",
    "double_timestamps = False\n",
    "dates_ids = [2]"
   ]
  },
  {
   "cell_type": "markdown",
   "metadata": {
    "collapsed": false,
    "pycharm": {
     "name": "#%% md\n"
    }
   },
   "source": [
    "Now that everything is set, we can create the main components of the framework: editors and encoders.\n",
    "\n",
    "Editors edit cases, by adding a step in it (e.g. \"End of State\"). Here, two editors are created:\n",
    "* An editor which creates a \"Start of State\" at the start of each case, named SosForAll,\n",
    "* An editor which creates an \"End of State\" at the end of each case, named EosForAll."
   ]
  },
  {
   "cell_type": "code",
   "execution_count": null,
   "metadata": {
    "collapsed": false,
    "pycharm": {
     "name": "#%%\n"
    }
   },
   "outputs": [],
   "source": [
    "editors = [SosForAll(), EosForAll()]"
   ]
  },
  {
   "cell_type": "markdown",
   "metadata": {
    "collapsed": false,
    "pycharm": {
     "name": "#%% md\n"
    }
   },
   "source": [
    "Editors encodes edited cases, to data that are interpretable by the neural network. Here, three encoders are created:\n",
    "* An encoder which deletes the first column, named DeleteEncoder,\n",
    "* An encoder which convert categorical data from the second column into one-hot vectors, named OneHotEncoder,\n",
    "* An encoder which computes a time difference between two successive dates inside a case, named TimeDifferenceSingleEncoder."
   ]
  },
  {
   "cell_type": "code",
   "execution_count": null,
   "metadata": {
    "collapsed": false,
    "pycharm": {
     "name": "#%%\n"
    }
   },
   "outputs": [],
   "source": [
    "encoders = [DeleteEncoder(0), OneHotEncoder(1, activity=True), TimeDifferenceSingleEncoder(2)]"
   ]
  },
  {
   "cell_type": "markdown",
   "metadata": {
    "collapsed": false,
    "pycharm": {
     "name": "#%% md\n"
    }
   },
   "source": [
    "Now that everything is set, we can create the main components of the framework: editors and encoders.\n",
    "\n",
    "Editors edit cases, by adding a step in it (e.g. \"End of State\"). Here, two editors are created:\n",
    "* An editor which creates a \"Start of State\" at the start of each case, named SosForAll,\n",
    "* An editor which creates an \"End of State\" at the end of each case, named EosForAll."
   ]
  },
  {
   "cell_type": "markdown",
   "metadata": {
    "collapsed": false,
    "pycharm": {
     "name": "#%% md\n"
    }
   },
   "source": [
    "Now that the main components are created, we can assign a manager to them. Those managers will be commanded by an **orchestrator**, which manages the all pre-processing of the data."
   ]
  },
  {
   "cell_type": "code",
   "execution_count": null,
   "metadata": {
    "collapsed": false,
    "pycharm": {
     "name": "#%%\n"
    }
   },
   "outputs": [],
   "source": [
    "editor_manager = EditorManager(editors)\n",
    "encoder_manager = EncoderManager(encoders)"
   ]
  },
  {
   "cell_type": "markdown",
   "metadata": {
    "collapsed": false,
    "pycharm": {
     "name": "#%% md\n"
    }
   },
   "source": [
    "The encoder manager can display the internal parameters of its encoders:"
   ]
  },
  {
   "cell_type": "code",
   "execution_count": null,
   "metadata": {
    "collapsed": false,
    "pycharm": {
     "name": "#%%\n"
    }
   },
   "outputs": [],
   "source": [
    "df = encoder_manager.get_all_encoders_description_df()\n",
    "df"
   ]
  },
  {
   "cell_type": "markdown",
   "metadata": {
    "collapsed": false,
    "pycharm": {
     "name": "#%% md\n"
    }
   },
   "source": [
    "As we can see, the encoders have no internal parameters at the moment. However, two encoders need to set parameters to function:\n",
    "* The one-hot encoder needs the list of all activities of the input file,\n",
    "* The date difference encoder needs to get the maximum value of the difference between two consecutive dates inside a case.\n",
    "\n",
    "To get those parameters, the orchestrator, while created, reads the database once, in full."
   ]
  },
  {
   "cell_type": "code",
   "execution_count": null,
   "metadata": {
    "collapsed": false,
    "pycharm": {
     "name": "#%%\n"
    }
   },
   "outputs": [],
   "source": [
    "orchestrator = build_orchestrator(input_path, output_name, input_chunk_size, encoder_manager, editor_manager, dates_ids, double_timestamps)"
   ]
  },
  {
   "cell_type": "markdown",
   "metadata": {
    "collapsed": false,
    "pycharm": {
     "name": "#%% md\n"
    }
   },
   "source": [
    "While reading the file, the orchestrator gets information about it, which can be seen here:"
   ]
  },
  {
   "cell_type": "code",
   "execution_count": null,
   "metadata": {
    "collapsed": false,
    "pycharm": {
     "name": "#%%\n"
    }
   },
   "outputs": [],
   "source": [
    "orchestrator.show_infos()"
   ]
  },
  {
   "cell_type": "markdown",
   "metadata": {
    "collapsed": false,
    "pycharm": {
     "name": "#%% md\n"
    }
   },
   "source": [
    "And, if we check the properties of the encoders, we can see that is has been updated:"
   ]
  },
  {
   "cell_type": "code",
   "execution_count": null,
   "metadata": {
    "collapsed": false,
    "pycharm": {
     "name": "#%%\n"
    }
   },
   "outputs": [],
   "source": [
    "df = encoder_manager.get_all_encoders_description_df()\n",
    "df"
   ]
  },
  {
   "cell_type": "markdown",
   "metadata": {
    "collapsed": false,
    "pycharm": {
     "name": "#%% md\n"
    }
   },
   "source": [
    "Let us now go through the inner workings of the framework. First, the orchestrator breaks the file into cases. Here is the first case of env_permit:"
   ]
  },
  {
   "cell_type": "code",
   "execution_count": null,
   "metadata": {
    "collapsed": false,
    "pycharm": {
     "name": "#%%\n"
    }
   },
   "outputs": [],
   "source": [
    "# Get the list of chunks\n",
    "chunks = pd.read_csv(orchestrator.input_path, chunksize=input_chunk_size, parse_dates=orchestrator.dates_ids)\n",
    "# Create all preliminary data before the chunks are processed\n",
    "id_column = orchestrator.column_names[0]\n",
    "for og_chunk in chunks:\n",
    "    complete_cases, case_ids, previous_case, previous_case_id = \\\n",
    "                    get_complete_cases(og_chunk, id_column, True, False, None, \"\")\n",
    "    case = complete_cases[0]\n",
    "    break\n",
    "case"
   ]
  },
  {
   "cell_type": "markdown",
   "metadata": {
    "collapsed": false,
    "pycharm": {
     "name": "#%% md\n"
    }
   },
   "source": [
    "Now, the orchestrator calls the editor manager to edit the case, i.e. add a Start of State and an End of State. To do so, the manager calls an editor after the other:"
   ]
  },
  {
   "cell_type": "code",
   "execution_count": null,
   "metadata": {
    "collapsed": false,
    "pycharm": {
     "name": "#%%\n"
    }
   },
   "outputs": [],
   "source": [
    "np_case = case.to_numpy()\n",
    "edited_case = orchestrator.editor_manager.edit_case(np_case, orchestrator)\n",
    "pd.DataFrame(edited_case, columns=orchestrator.column_names)"
   ]
  },
  {
   "cell_type": "markdown",
   "metadata": {
    "collapsed": false,
    "pycharm": {
     "name": "#%% md\n"
    }
   },
   "source": [
    "The case has been edited, it can now be encoded by the encoder manager, that calls every encoders and merges their results:"
   ]
  },
  {
   "cell_type": "code",
   "execution_count": null,
   "metadata": {
    "collapsed": false,
    "pycharm": {
     "name": "#%%\n"
    }
   },
   "outputs": [],
   "source": [
    "encoded_case = orchestrator.encoder_manager.encode_case(edited_case)\n",
    "pd.DataFrame(encoded_case, columns=orchestrator.encoder_manager.all_output_column_names)"
   ]
  },
  {
   "cell_type": "markdown",
   "metadata": {
    "collapsed": false,
    "pycharm": {
     "name": "#%% md\n"
    }
   },
   "source": [
    "We can see the result of the one-hot encoder on activities, concatenated with the time difference encoder. The case id has been deleted."
   ]
  },
  {
   "cell_type": "markdown",
   "metadata": {
    "collapsed": false,
    "pycharm": {
     "name": "#%% md\n"
    }
   },
   "source": [
    "Every encoder can leave a **leftover**, i.e. a data that has been lost during the encoding. As we will see after, it is necessary for decoding and get back the original data.\n",
    "\n",
    "Two encoders out of three leaves a leftover:\n",
    "* The delete encoder leaves the case id that has been deleted (here \"2\"),\n",
    "* The time difference encoder leaves the first date of the case (here \"2012-04-03 16:55:38\"). For decoding, the time difference will help to get the original dates of the case."
   ]
  },
  {
   "cell_type": "code",
   "execution_count": null,
   "metadata": {
    "collapsed": false,
    "pycharm": {
     "name": "#%%\n"
    }
   },
   "outputs": [],
   "source": [
    "leftover = orchestrator.encoder_manager.get_leftover(edited_case)\n",
    "leftover.tolist()"
   ]
  },
  {
   "cell_type": "markdown",
   "metadata": {
    "collapsed": false,
    "pycharm": {
     "name": "#%% md\n"
    }
   },
   "source": [
    "This framework makes it possible to automatically decode this encoded data, to interpret the results. To do so, decoders are created. Here, they are created automatically according to the encoders that were built."
   ]
  },
  {
   "cell_type": "code",
   "execution_count": null,
   "metadata": {
    "collapsed": false,
    "pycharm": {
     "name": "#%%\n"
    }
   },
   "outputs": [],
   "source": [
    "decoder_manager = create_all_decoders(orchestrator)\n",
    "decoder_manager.get_all_encoders_description_df()\n",
    "decoder_manager.set_all_output_column_names()"
   ]
  },
  {
   "cell_type": "markdown",
   "metadata": {
    "collapsed": false,
    "pycharm": {
     "name": "#%% md\n"
    }
   },
   "source": [
    "Once the decoders are built, we assign to them the leftovers that were generated before:"
   ]
  },
  {
   "cell_type": "code",
   "execution_count": null,
   "metadata": {
    "collapsed": false,
    "pycharm": {
     "name": "#%%\n"
    }
   },
   "outputs": [],
   "source": [
    "decoder_manager.encoders[0].set_leftover([leftover[0]])\n",
    "decoder_manager.encoders[2].set_leftover([leftover[1]])"
   ]
  },
  {
   "cell_type": "markdown",
   "metadata": {
    "collapsed": false,
    "pycharm": {
     "name": "#%% md\n"
    }
   },
   "source": [
    "And we can run them to get the original data:"
   ]
  },
  {
   "cell_type": "code",
   "execution_count": null,
   "metadata": {
    "collapsed": false,
    "pycharm": {
     "name": "#%%\n"
    }
   },
   "outputs": [],
   "source": [
    "decoded_case = decoder_manager.encode_case(encoded_case)\n",
    "#pd.DataFrame(data=decoded_case, columns=decoder_manager.all_output_column_names)"
   ]
  },
  {
   "cell_type": "markdown",
   "metadata": {
    "collapsed": false,
    "pycharm": {
     "name": "#%% md\n"
    }
   },
   "source": [
    "The case can now be edited into prefixes and suffixes, as in this example:"
   ]
  },
  {
   "cell_type": "code",
   "execution_count": null,
   "metadata": {
    "collapsed": false
   },
   "outputs": [],
   "source": [
    "preparator = NextActivity()\n",
    "preparator.build(input_chunk_size, output_chunk_size, batch_size, orchestrator)\n",
    "result = next(preparator.run_online())\n",
    "prefix = result[0][3]\n",
    "suffix = result[1][3]"
   ]
  },
  {
   "cell_type": "markdown",
   "metadata": {
    "collapsed": false,
    "pycharm": {
     "name": "#%% md\n"
    }
   },
   "source": [
    "Which makes this the input of the neural network. You can see the original values in the end of the table:"
   ]
  },
  {
   "cell_type": "code",
   "execution_count": null,
   "metadata": {
    "collapsed": false,
    "pycharm": {
     "name": "#%%\n"
    }
   },
   "outputs": [],
   "source": [
    "prefix"
   ]
  },
  {
   "cell_type": "markdown",
   "metadata": {
    "collapsed": false,
    "pycharm": {
     "name": "#%% md\n"
    }
   },
   "source": [
    "And this the expected output of this example:"
   ]
  },
  {
   "cell_type": "code",
   "execution_count": null,
   "metadata": {
    "collapsed": false,
    "pycharm": {
     "name": "#%%\n"
    }
   },
   "outputs": [],
   "source": [
    "suffix"
   ]
  },
  {
   "cell_type": "markdown",
   "metadata": {
    "collapsed": false,
    "pycharm": {
     "name": "#%% md\n"
    }
   },
   "source": [
    "Now, you have seen the inner workings of the framework. You can tinker with the configuration, and observe the \"main.py\" file. you can also run code by yourself, as in this example..."
   ]
  },
  {
   "cell_type": "code",
   "execution_count": null,
   "metadata": {
    "collapsed": false
   },
   "outputs": [],
   "source": [
    "create_directories(orchestrator.output_name)\n",
    "orchestrator.process_online(input_chunk_size)\n",
    "preparator = NextActivity()\n",
    "preparator.build(input_chunk_size, output_chunk_size, batch_size, orchestrator)\n",
    "preparator.run_online()\n",
    "lstm_trainer = LSTMTrainer()\n",
    "lstm_trainer.build(preparator, epoch_counter)"
   ]
  },
  {
   "cell_type": "markdown",
   "metadata": {
    "collapsed": false,
    "pycharm": {
     "name": "#%% md\n"
    }
   },
   "source": [
    "... and train the model!"
   ]
  },
  {
   "cell_type": "code",
   "execution_count": null,
   "metadata": {
    "collapsed": false,
    "pycharm": {
     "name": "#%%\n"
    }
   },
   "outputs": [],
   "source": [
    "model = lstm_trainer.train_model_online()"
   ]
  },
  {
   "cell_type": "markdown",
   "metadata": {
    "collapsed": false,
    "pycharm": {
     "name": "#%% md\n"
    }
   },
   "source": [
    "You can see all the results in the \"Output/env_permit\" folder, as well as the encoded, decoded data, description of the input file and the model that has been trained."
   ]
  }
 ],
 "metadata": {
  "kernelspec": {
   "display_name": "Python 3",
   "language": "python",
   "name": "python3"
  },
  "language_info": {
   "codemirror_mode": {
    "name": "ipython",
    "version": 2
   },
   "file_extension": ".py",
   "mimetype": "text/x-python",
   "name": "python",
   "nbconvert_exporter": "python",
   "pygments_lexer": "ipython2",
   "version": "2.7.6"
  }
 },
 "nbformat": 4,
 "nbformat_minor": 0
}
